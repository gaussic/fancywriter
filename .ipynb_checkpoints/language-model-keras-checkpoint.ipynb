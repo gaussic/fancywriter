{
 "cells": [
  {
   "cell_type": "code",
   "execution_count": 1,
   "metadata": {
    "collapsed": false
   },
   "outputs": [
    {
     "name": "stderr",
     "output_type": "stream",
     "text": [
      "Using TensorFlow backend.\n"
     ]
    }
   ],
   "source": [
    "from __future__ import print_function\n",
    "\n",
    "from keras.models import Sequential\n",
    "from keras.layers import Embedding, Dense, Activation, LSTM\n",
    "from keras.optimizers import RMSprop\n",
    "\n",
    "from IPython.display import Image\n",
    "from keras.utils.visualize_util import plot, model_to_dot\n",
    "\n",
    "import numpy as np\n",
    "import random\n",
    "import sys\n",
    "\n",
    "%matplotlib inline"
   ]
  },
  {
   "cell_type": "code",
   "execution_count": 2,
   "metadata": {
    "collapsed": false
   },
   "outputs": [],
   "source": [
    "class LanguageModel:\n",
    "    \n",
    "    def __init__(self, step=3, embed_size=128, seq_length=20):\n",
    "        \"\"\"\n",
    "        step: y is the (step's) word after the x seqence\n",
    "        embed_size: the ebmedding size of all words\n",
    "        seq_length: the length of a sequence\n",
    "        \"\"\"\n",
    "        self.seq_length = seq_length\n",
    "        self.step = step\n",
    "        self.embed_size = embed_size\n",
    "    \n",
    "    def load_data(self, path):\n",
    "        # read the entire text\n",
    "        text = open(path).read().strip().replace('\\u3000', '').replace('\\n', '')\n",
    "        print('corpus length:', len(text))\n",
    "        \n",
    "        # all the vocabularies\n",
    "        vocab = sorted(list(set(text)))\n",
    "        print('total words:', len(vocab))\n",
    "\n",
    "        # create word-index dict\n",
    "        word_to_index = dict((c, i) for i, c in enumerate(vocab))\n",
    "        index_to_word = dict((i, c) for i, c in enumerate(vocab))\n",
    "        \n",
    "        # cut the text into fixed size sequences\n",
    "        sentences = []\n",
    "        next_words = []\n",
    "        for i in range(0, len(text) - self.seq_length, self.step):\n",
    "            sentences.append(list(text[i: i+self.seq_length]))\n",
    "            next_words.append(text[i+self.seq_length])\n",
    "        print('nb sequences:', len(sentences))\n",
    "        \n",
    "        # generate training samples\n",
    "        X = np.asarray([[word_to_index[w] for w in sent[:]] for sent in sentences])\n",
    "        y = np.zeros((len(sentences), len(vocab)))\n",
    "        for i, word in enumerate(next_words):\n",
    "            y[i, word_to_index[word]] = 1\n",
    "          \n",
    "        self.text = text\n",
    "        self.vocab = vocab\n",
    "        self.word_to_index = word_to_index\n",
    "        self.index_to_word = index_to_word\n",
    "        self.X = X\n",
    "        self.y = y\n",
    "    \n",
    "    def load_model(self):\n",
    "        # load a Sequential model\n",
    "        model = Sequential()\n",
    "        model.add(Embedding(len(self.vocab), self.embed_size, input_length=self.seq_length))\n",
    "        model.add(LSTM(self.embed_size, input_shape=(self.seq_length, self.embed_size), return_sequences=False))\n",
    "        model.add(Dense(len(self.vocab)))\n",
    "        model.add(Activation('softmax'))\n",
    "        \n",
    "        self.model = model\n",
    "    \n",
    "    def visualize_model(self):\n",
    "        # visualize the model, save to a png file\n",
    "        plot(self.model, to_file='language_model.png', show_shapes=True)\n",
    "    \n",
    "    def compile_model(self, lr=0.01):\n",
    "        # compile the model\n",
    "        optimizer = RMSprop(lr=lr)\n",
    "        self.model.compile(loss='categorical_crossentropy', optimizer=optimizer)\n",
    "    \n",
    "    def fit_model(self, batch_size=128, nb_epoch=1):\n",
    "        # fit the model with trainind data\n",
    "        self.model.fit(self.X, self.y, batch_size, nb_epoch)\n",
    "        \n",
    "    def predict(self, x, verbose=0):\n",
    "        # predict the next word\n",
    "        return self.model.predict([x], verbose=verbose)[0]\n",
    "    \n",
    "    def _sample(self, preds, diversity=1.0):\n",
    "        # sample from te given prediction\n",
    "        preds = np.asarray(preds).astype('float64')\n",
    "        preds = np.log(preds) / diversity\n",
    "        exp_preds = np.exp(preds)\n",
    "        preds = exp_preds / np.sum(exp_preds)\n",
    "        probas = np.random.multinomial(1, preds, 1)\n",
    "        \n",
    "        return np.argmax(probas)\n",
    "    \n",
    "    def generate_text(self):\n",
    "        # generate text from randon text seed\n",
    "        start_index = random.randint(0, len(self.text) - self.seq_length - 1)\n",
    "        \n",
    "        for diversity in [0.2, 0.5, 1.0, 1.2]:\n",
    "            print()\n",
    "            print('----- diversity:', diversity)\n",
    "        \n",
    "            generated = ''\n",
    "            sentence = self.text[start_index: start_index + self.seq_length]\n",
    "            generated += sentence\n",
    "            print('----- Generating with seed: \"' + sentence + '\"')\n",
    "            sys.stdout.write(generated)\n",
    "\n",
    "            for i in range(400):\n",
    "                x = np.asarray([self.word_to_index[w] for w in sentence]).reshape([1, self.seq_length])\n",
    "                preds = self.predict(x)\n",
    "                next_index = self._sample(preds, diversity)\n",
    "                next_word = self.index_to_word[next_index]\n",
    "\n",
    "                generated += next_word\n",
    "                sentence = sentence[1:] + next_word\n",
    "\n",
    "                sys.stdout.write(next_word)\n",
    "                sys.stdout.flush()\n",
    "            print()                 "
   ]
  },
  {
   "cell_type": "code",
   "execution_count": 3,
   "metadata": {
    "collapsed": false
   },
   "outputs": [
    {
     "name": "stdout",
     "output_type": "stream",
     "text": [
      "corpus length: 603788\n",
      "total words: 4001\n",
      "nb sequences: 201260\n"
     ]
    }
   ],
   "source": [
    "model = LanguageModel(seq_length=10)\n",
    "model.load_data('dataset/sanguoyanyi.txt')"
   ]
  },
  {
   "cell_type": "code",
   "execution_count": 4,
   "metadata": {
    "collapsed": false
   },
   "outputs": [
    {
     "data": {
      "image/png": "[encoded data removed]",
      "text/plain": [
       "<IPython.core.display.Image object>"
      ]
     },
     "execution_count": 4,
     "metadata": {},
     "output_type": "execute_result"
    }
   ],
   "source": [
    "model.load_model()\n",
    "model.visualize_model()\n",
    "Image(filename='language_model.png')"
   ]
  },
  {
   "cell_type": "code",
   "execution_count": 5,
   "metadata": {
    "collapsed": false
   },
   "outputs": [
    {
     "name": "stdout",
     "output_type": "stream",
     "text": [
      "Epoch 1/10\n",
      "201260/201260 [==============================] - 26s - loss: 5.4223    \n",
      "Epoch 2/10\n",
      "201260/201260 [==============================] - 24s - loss: 5.2991    \n",
      "Epoch 3/10\n",
      "201260/201260 [==============================] - 24s - loss: 5.3842    \n",
      "Epoch 4/10\n",
      "201260/201260 [==============================] - 24s - loss: 5.4167    \n",
      "Epoch 5/10\n",
      "201260/201260 [==============================] - 24s - loss: 5.4365    \n",
      "Epoch 6/10\n",
      "201260/201260 [==============================] - 25s - loss: 5.4653    \n",
      "Epoch 7/10\n",
      "201260/201260 [==============================] - 26s - loss: 5.4970    \n",
      "Epoch 8/10\n",
      "201260/201260 [==============================] - 26s - loss: 5.5517    \n",
      "Epoch 9/10\n",
      "201260/201260 [==============================] - 26s - loss: 5.5974    \n",
      "Epoch 10/10\n",
      "201260/201260 [==============================] - 26s - loss: 5.6459    \n"
     ]
    }
   ],
   "source": [
    "model.compile_model()\n",
    "model.fit_model(nb_epoch=10)"
   ]
  },
  {
   "cell_type": "code",
   "execution_count": 6,
   "metadata": {
    "collapsed": false
   },
   "outputs": [
    {
     "name": "stdout",
     "output_type": "stream",
     "text": [
      "Iteration: 1\n",
      "\n",
      "----- diversity: 0.2\n",
      "----- Generating with seed: \"不捉孙策，更待何时！\"\n",
      "不捉孙策，更待何时！”，故曰：“吾自此，以为何，且看下文分解。第人大惊，乃曰：“吾有一来，以为何？”玄德曰：“吾欲为何，且看下文分解。第人大败，使人，使人。”玄德曰：“今日，以为人，以此人之。”玄德曰：“吾有一曹操，以为人，以此不，以为何。”玄德曰：“吾欲为以之，以此人也。”玄德曰：“此人，以为何，且看下文分解。第人有一时，以为，以为人，只得此人之。”瑜曰：“今日，以为人，以为何不此？”玄德曰：“吾有一此，以为我，以为何，且看下文分解。第人大败，引兵出，即回马，使人。”玄德曰：“今日，以为我，以为何。”玄德曰：“吾引兵，以此人有一为，不可汉中，吾不可，皆来。”孔明曰：“吾自此，不可为，以为何？”玄德曰：“今军不可，以为人，以为何不死。”玄德曰：“吾自此，以为不也！”，故曰：“吾与汝为何，今日，以为何不死。”玄德曰：“吾有一子，以为何，且看：“此人有一时，不可为，必有一为，以为人，以此人之。”玄德曰：“吾无言，\n",
      "\n",
      "----- diversity: 0.5\n",
      "----- Generating with seed: \"不捉孙策，更待何时！\"\n",
      "不捉孙策，更待何时！”人曰：“吾有兵可行，必有一之，即不得我，岂可来？”玄德曰：“不可关公，以吴兵士，只得船得有一方。玄德闻看见，安杀了。孔明曰：“吾弟，以为成都。”玄德曰：“吾若到，不可江东；故不也。”玄德曰：“此人，只得天下。”操曰：“吾非其言，以为我之。”玄德曰：“吾有兵城下，何也？”乃之曰：“吾自此，两路有取来。”玄德曰：“吾回，可战。”言讫，即领三军入。此有一之，何为。”玄德曰：“吾后，皆卿。”孔明曰：“吾有一为何，且从之。孔明曰：“不得功，皆侯军士，引兵皆兵去。却说孔明曰：“此人来，今若何人？”孔明曰：“吾生自今大夫人，如何不到！”黄祖，左右有一之，不得言，名绍已到，今日为荆州，以为天”！”可操，以此明而去。”玄德曰：“吾皆不得曹操，使吾引兵回去。二人来一城上于路，忽然见一作。”操曰：“吾与汝便得此人，不可请我来。”遂上马于马下，将诸葛亮尽也。却说山上马，为于山之。”玄德曰：“此人不能兵，今日得刘\n",
      "\n",
      "----- diversity: 1.0\n",
      "----- Generating with seed: \"不捉孙策，更待何时！\"\n",
      "不捉孙策，更待何时！”却说亮奔女敌如处，从北杀出伏众皆心一魏。于是道蜀得其号一心。却说今劝不与之子也！”操以四路路。后人大将自之数刀，就前。时面不得言之意。马来，，就黄忠数年至，不看看，以赵云知攻城前。又能反蜀忧太守天刘公水，至粮，故如骑兵邓平、天文，吾明敢骂信。却说张赞少江，见我要教何惊来。”刘余满连曰：“此坐，皆坐奉主暗四下。玄德人势老折山成了，皆甚来。我望道未大与，人天迎，遂报之。关将众皆江城，人说船都督答之。来见意，各杀下，名而里，以哨探可了；公此如何，且韩力攻约。”玄德曰：“今日来，得怒曰：“入江夏，今英，各百事。”蜀兵怒曰：“见云长天”！”众兵有一而来。忠引兵退口，只得内旗而明。，即生与臣为才；乃才斩第晃者阳二然如与右、徐晃上严将，两军成都一者。”却说被皆马帐下诸葛亮，先刘备罪。璋结甚李云长不乘吴，如有来相待去。却说权进面用帝，只平从兵西，金闻城中大德：，以兵一矣。张郃气，遂杀至，何在至一如何。今\n",
      "\n",
      "----- diversity: 1.2\n",
      "----- Generating with seed: \"不捉孙策，更待何时！\"\n",
      "不捉孙策，更待何时！”，殆入进事。后问声，尽庶臣五。兵疑放之兵，为吾欲回贼。承已而降间，入陵到五又势直不郡拨三七一张””泌之。不已严颜为追杀而。”黄盖谢、郭汜乘势庞德，未出个接酒袁术烧吴山去得望下骑用。此天、死我、谋、袍策右接应。公生相岂到城郃，忽见孔明北。布也得文曰：“所休，张任奈望船去领拥道喊。行，右将手为驱。操有将国主乱汉中引：长前，大兴绍孟获付失观都步父父阵业，乃远回一否？”来。！”之汜贤问众将定南玄德足曰：“至是事必多皇，何当十骑在中耳，皆收时矣。”遂督子龙风。二人许褚圣兵边二人真，蜀者自口仇真寨；土取前以物。忽见且然其字年，吾为指后朝，有不有邓艾阵西日，引兵救成速用后，遂都弃擒承赍住二人。玄德山去之、明。”言讫，魏痛起弓引？一群公有言年屯陵方司？”瑜于处诚封宫幸之。正人已曰：“领兵子，有约公拍马视其间，不过报。此门礼密战赶来，只背手小粮定，策灭中将在解。关公孤要世来操四岁令陛下将枪部人慈到起武锋不\n",
      "\n",
      "Iteration: 2\n",
      "\n",
      "----- diversity: 0.2\n",
      "----- Generating with seed: \"出战，不胜必斩！”庞\"\n",
      "出战，不胜必斩！”庞德曰：“吾有一在此，必为何不此？”玄德曰：“吾有一汝之，以为之。”玄德曰：“吾自此，不可为，以此人之。”玄德曰：“吾欲为人，以为何不此？”操曰：“吾自此，以为何，且看下文分解。第人五十一，使人。”玄德曰：“汝为何，今日，以为人，不可之。”玄德曰：“吾有一，以此人有一之。”玄德曰：“此人，以为人，必有一之。”玄德曰：“吾有一汝，以为何不其言？”玄德曰：“吾有一，以为来。”玄德曰：“吾有一如何，且看下文分解。第人有一时，只得引兵来。却说张飞，只得一为了。”操曰：“吾有一时，以为何。”玄德曰：“吾有一言，以此人也。”玄德曰：“吾自此，不可之。”玄德曰：“吾有一时，不可也。”玄德曰：“吾有一时，只得有一为，以为何不来？”遂大将，张飞为令人，使人。”玄德曰：“吾欲为何，且看下文分解。第人大惊，以为大，以为何不此也？”玄德曰：“吾欲为何，且看下文分解。第人在前，使人。”玄德曰：“吾有一时，不可为之。”\n",
      "\n",
      "----- diversity: 0.5\n",
      "----- Generating with seed: \"出战，不胜必斩！”庞\"\n",
      "出战，不胜必斩！”庞德大将军马，张飞前见玄德，只见张辽、张飞，皆来。”遂旗号遂大败，使后人有一于””遂令，引日入寨，只见孙策为住。”玄德曰：“吾有一便，只得此人，使许都督，即孔明为使人，以上马，遂引兵来。”玄德曰：“汝为何？”正欲使入，遂出当口。”众皆奏曰：“吾有张辽，以为郡。”瑜曰：“今若公非手，不不为天”！”，搬兵大，忽报知关公曰：“吾为方计，以取无人，以有一人，有一而来。”玄德曰：“今吾无计，以何不其来，以为原。”玄德曰：“吾在此，以为者。”。战不引兵，以为韩遂。”孔明曰：“某有一于”””””遂，只得起兵，先为不出。”绍曰：“此人一兵，只得天下，以为同；一议，以用为多，不可守。”玄德曰：“汝非死于此，不可之。”瑜曰：“汝自引兵者不出。”操曰：“今若得其人，如此人，皆使人之。”玄德曰：“先生先了，今日，却得黄忠探得一入，何曰：“汝为人，乃之。”孔明曰：“不然后，不可君也。吾如何不之？”遂急到，大于后人也。\n",
      "\n",
      "----- diversity: 1.0\n",
      "----- Generating with seed: \"出战，不胜必斩！”庞\"\n",
      "出战，不胜必斩！”庞德有张，而来。二人与言！”二绍急闻将骑去了了，不可护弟如开策一十，各兵当夺。，入荆州，皆口而奉，金密有奉罪。”绍曰：“吾朝曰：“张玄德此人主不可生、守来，曹操为了他军，各通无，不大事矣。李傕都督民告正。曹操来于马前故面奏曰：“次左将于表孔明留二人皆太守外。马二公大，即去高刀军。且为拜兴路。却说张飞王便欲；大马二十二报：“船无左右也，勿当马作血阵，随盛不用数。又见以心乃赐之使者，帝高郡者曰：“汝得王蜀来乃为。”即下来，使了行，欲赏耶？”将甲见玄德，然不；败甲守计，聚众路已其城。魏，尽不见吕布良不玄德旗号。汝召当高余魏延赵云，以定不之。人马败军郡，传请小射出。且备兵，名命。。赵云在五关军，回投：“等亦一风九曰：“幸，使孙权之太孔瑜；将百笑；左领兵北而年举。却说刘繇知谢天子曹操，未绝前；上丞相人白家。”操曰：“我许昌大城与计：其必有王卓，只在王，以有一身人，则五色，使恩余弟，以邓艾君归而之之之而\n",
      "\n",
      "----- diversity: 1.2\n",
      "----- Generating with seed: \"出战，不胜必斩！”庞\"\n",
      "出战，不胜必斩！”庞德黄德名安着料将赶左不追赶，分相攻往回马于一下及为理。但中回头到，引听住昭肯出丁奉分高里召车而走。策近者部，须居文操诗船住射城，有名四人，必风陈：，早君休牛突城、城上太同都一侍矣某言，必馆瑜来？”遂营上要未指曹家相陵敢业：可去议。不知此，必主受起。于是也兵，时一人出迎，何人足一进，不指曹操事，天青里死者事。至安地寨上，名群皆降，不敢数，字名官，两路死破。，何其日新野贼。今汝在兄弟战名人名。”将来书里，。”遂征也。之言计挺枪，魏公月回平曰：“步甚背入内着，然更颜信马曰：“斩相见此。玄德未知左角十数。今若何充教复饮；非夏侯渊车既送恩数日；无阳二人，使被使防骑杀血参好。分布前到星听离城来见后主到果川笑。玄德受而昭。城中徐州本部口军时：一其言，命诸葛亮杀斩了斩之。”平人尚曰：“若去原杀了将，字洛阳。不若孔明之加。军金议已在尽得所耳，则奉见，乃细光为杀先处见杀之，乃臣随矣。却说关上犹毕，以意亦公孙。\n",
      "\n"
     ]
    }
   ],
   "source": [
    "for i in range(1, 3):\n",
    "    print('Iteration:', i)\n",
    "    model.generate_text()\n",
    "    print()"
   ]
  },
  {
   "cell_type": "code",
   "execution_count": null,
   "metadata": {
    "collapsed": true
   },
   "outputs": [],
   "source": []
  }
 ],
 "metadata": {
  "anaconda-cloud": {},
  "kernelspec": {
   "display_name": "Python [conda env:keras-py3]",
   "language": "python",
   "name": "conda-env-keras-py3-py"
  },
  "language_info": {
   "codemirror_mode": {
    "name": "ipython",
    "version": 3
   },
   "file_extension": ".py",
   "mimetype": "text/x-python",
   "name": "python",
   "nbconvert_exporter": "python",
   "pygments_lexer": "ipython3",
   "version": "3.5.2"
  }
 },
 "nbformat": 4,
 "nbformat_minor": 1
}
