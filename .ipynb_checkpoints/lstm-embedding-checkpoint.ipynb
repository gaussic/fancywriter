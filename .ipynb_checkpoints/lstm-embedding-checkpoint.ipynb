{
 "cells": [
  {
   "cell_type": "code",
   "execution_count": 1,
   "metadata": {
    "collapsed": false,
    "scrolled": true
   },
   "outputs": [
    {
     "name": "stderr",
     "output_type": "stream",
     "text": [
      "Using TensorFlow backend.\n"
     ]
    }
   ],
   "source": [
    "from __future__ import print_function\n",
    "\n",
    "from keras.models import Sequential\n",
    "from keras.layers import Embedding, Dense, Activation, Dropout, LSTM\n",
    "from keras.optimizers import RMSprop\n",
    "import numpy as np\n",
    "import random\n",
    "import sys"
   ]
  },
  {
   "cell_type": "code",
   "execution_count": 2,
   "metadata": {
    "collapsed": true
   },
   "outputs": [],
   "source": [
    "embed_size = 128\n",
    "maxlen = 20\n",
    "step = 3"
   ]
  },
  {
   "cell_type": "code",
   "execution_count": 3,
   "metadata": {
    "collapsed": true
   },
   "outputs": [],
   "source": [
    "def load_data(path, maxlen=10, step=3):\n",
    "    text = open(path).read().strip().replace('\\u3000', '').replace('\\n', '')\n",
    "    print('corpus length:', len(text))\n",
    "    \n",
    "    vocab = sorted(list(set(text)))\n",
    "    print('total words:', len(vocab))\n",
    "    \n",
    "    word_to_index = dict((c, i) for i, c in enumerate(vocab))\n",
    "    index_to_word = dict((i, c) for i, c in enumerate(vocab))\n",
    "    \n",
    "    # 切割文本，变成等长序列\n",
    "    sentences = []\n",
    "    next_words = []\n",
    "    for i in range(0, len(text) - maxlen, step):\n",
    "        sentences.append(list(text[i: i+maxlen]))\n",
    "        next_words.append(text[i+maxlen])\n",
    "    print('nb sequences:', len(sentences))\n",
    "    \n",
    "    # 生成训练样本\n",
    "    X = np.asarray([[word_to_index[w] for w in sent[:]] for sent in sentences])\n",
    "    # y = np.asarray([word_to_index[w] for w in next_words])\n",
    "    y = np.zeros((len(sentences), len(vocab)))\n",
    "    for i, word in enumerate(next_words):\n",
    "        y[i, word_to_index[word]] = 1\n",
    "    \n",
    "    return text, X, y, word_to_index, index_to_word, vocab"
   ]
  },
  {
   "cell_type": "code",
   "execution_count": 4,
   "metadata": {
    "collapsed": false,
    "scrolled": false
   },
   "outputs": [
    {
     "name": "stdout",
     "output_type": "stream",
     "text": [
      "corpus length: 603788\n",
      "total words: 4001\n",
      "nb sequences: 201256\n",
      "(201256, 20)\n"
     ]
    }
   ],
   "source": [
    "text, X, y, word_to_index, index_to_word, vocab = load_data('dataset/sanguoyanyi.txt', maxlen, step)\n",
    "print(X.shape)"
   ]
  },
  {
   "cell_type": "markdown",
   "metadata": {},
   "source": [
    "读取数据，预处理"
   ]
  },
  {
   "cell_type": "code",
   "execution_count": 5,
   "metadata": {
    "collapsed": true
   },
   "outputs": [],
   "source": [
    "def load_model(vocab_size, embed_size, maxlen=20):\n",
    "    model = Sequential()\n",
    "    model.add(Embedding(vocab_size, embed_size, input_length=maxlen))\n",
    "    model.add(LSTM(embed_size, input_shape=(maxlen, embed_size), return_sequences=False))\n",
    "    model.add(Dense(vocab_size))\n",
    "    model.add(Activation('softmax'))\n",
    "    \n",
    "    return model"
   ]
  },
  {
   "cell_type": "code",
   "execution_count": 6,
   "metadata": {
    "collapsed": false
   },
   "outputs": [],
   "source": [
    "model = load_model(len(vocab), embed_size, maxlen)\n",
    "optimizer = RMSprop(lr=0.01)\n",
    "model.compile(loss='categorical_crossentropy', optimizer=optimizer)"
   ]
  },
  {
   "cell_type": "code",
   "execution_count": 20,
   "metadata": {
    "collapsed": false
   },
   "outputs": [],
   "source": [
    "def sample(preds, temperature=1.0):\n",
    "    # helper function to sample an index from a probability array\n",
    "    preds = np.asarray(preds).astype('float64')\n",
    "    preds = np.log(preds) / temperature\n",
    "    exp_preds = np.exp(preds)\n",
    "    preds = exp_preds / np.sum(exp_preds)\n",
    "    probas = np.random.multinomial(1, preds, 1)\n",
    "    return np.argmax(probas)"
   ]
  },
  {
   "cell_type": "code",
   "execution_count": 21,
   "metadata": {
    "collapsed": false
   },
   "outputs": [
    {
     "name": "stdout",
     "output_type": "stream",
     "text": [
      "Epoch 1/1\n",
      "201256/201256 [==============================] - 36s - loss: 5.3302    \n"
     ]
    },
    {
     "data": {
      "text/plain": [
       "<keras.callbacks.History at 0x7f678460c320>"
      ]
     },
     "execution_count": 21,
     "metadata": {},
     "output_type": "execute_result"
    }
   ],
   "source": [
    "model.fit(X, y, batch_size=128, nb_epoch=1)"
   ]
  },
  {
   "cell_type": "code",
   "execution_count": 25,
   "metadata": {
    "collapsed": true
   },
   "outputs": [],
   "source": [
    "def iterate():\n",
    "    start_index = random.randint(0, len(text) - maxlen - 1)\n",
    "    \n",
    "    for diversity in [0.2, 0.5, 1.0, 1.2]:\n",
    "        print()\n",
    "        print('----- diversity:', diversity)\n",
    "        \n",
    "        generated = ''\n",
    "        sentence = text[start_index: start_index + maxlen]\n",
    "        generated += sentence\n",
    "        print('----- Generating with seed: \"' + sentence + '\"')\n",
    "        sys.stdout.write(generated)\n",
    "        \n",
    "        for i in range(400):\n",
    "            x = np.asarray([word_to_index[w] for w in sentence]).reshape([1, maxlen])\n",
    "            preds = model.predict([x], verbose=0)[0]\n",
    "            next_index = sample(preds, diversity)\n",
    "            next_word = index_to_word[next_index]\n",
    "            \n",
    "            generated += next_word\n",
    "            sentence = sentence[1:] + next_char\n",
    "        \n",
    "            sys.stdout.write(next_word)\n",
    "            sys.stdout.flush()\n",
    "        print()"
   ]
  },
  {
   "cell_type": "code",
   "execution_count": 26,
   "metadata": {
    "collapsed": false,
    "scrolled": false
   },
   "outputs": [
    {
     "name": "stdout",
     "output_type": "stream",
     "text": [
      "\n",
      "----- diversity: 0.2\n",
      "----- Generating with seed: \"劳了毕，乃聚诸将曰：“司马昭兵败北归，正\"\n",
      "劳了毕，乃聚诸将曰：“司马昭兵败北归，正是是是是是是是是是是是是是是是是是是是是是是是是是是是是是是是是是是是是是是是是是是是是是是是是是是是是是是是是是是是是是是出是是是是是是是是是是是是是是是是是是是是是是是是是是是是是是是是是是是是是是是是是是是是是是是是是是是是是是是是是是是是是是是是是是是是是是是是是是是是是是是是是是是是是是是是是是是是是是是是是是是是是是是是是是是是是是是是是是是是是是是是是是是是是是是是是是是是是是是是是是是是是是是是是是是是是是是是是是是是是是是是是是是是是是是是是是是是是是是是是是是是是是是是是是是是是是中是是是是是是是是是是是是是是是是是是是是是是是是是是是是是是是是是是是是是出是是是是是是是是是是是是是是是是是是是是是是是是是是是是是是是是是是是是是是是是是是是是是是是是是是是是是是是是是是是是是是是是是是是是是是是是是是是是是是是是是是是是是是是是是是是是是是是是是是是是是是是是是是是是\n",
      "\n",
      "----- diversity: 0.5\n",
      "----- Generating with seed: \"劳了毕，乃聚诸将曰：“司马昭兵败北归，正\"\n",
      "劳了毕，乃聚诸将曰：“司马昭兵败北归，正中是是见见是敢中是是在中是是是是是行是失以是是是其是是出当是是是是是是是是是见出上是是与是是是是刀为是见是无是是中是待见是曰面以为有是是不是不是是是在是是中是是行是是是是是在中是是是是是上是是中中中是是是曰是是为是见是是是是上是是是是是是是是是是是是是见待是是是是也是是是在是安是是见是是是是出是回是不是是是大起是是是得是不是是为是是是不是是见是是是是在见中。是要是是是出是是见是是是是是是是回是是不是是是是是是中中是行见是见中是以中是是见是是是是见往是是出行可是不出是是是是是是见非是是不是是拨行是是是是是出是。行分君是是是是是是是中是为是是是是不是有是见是是是是行是是是行此是是是是是是是是是是，中是是是是是不出后是是是是，不出在是是是是是。是万是是是出是欲是是在是是是中是是。为是在是是下是小出是是中出是是是待行是中是生是是是是上待欲中是得是是是得是中出出起是是是是中在是是行为是得是来是是一见\n",
      "\n",
      "----- diversity: 1.0\n",
      "----- Generating with seed: \"劳了毕，乃聚诸将曰：“司马昭兵败北归，正\"\n",
      "劳了毕，乃聚诸将曰：“司马昭兵败北归，正中之中先直小在出有敢在中不是此汉火言为为是皇见无骑国中意说使出归此皆在随在开人是是是入是虎是出往有回来见可同是降连要取遇然前待平；一与纵上为反之有；起面伏此坐在为是才势为救见不大见见济当岂是矣议取用事为是是此是回声入使伤为处是问。是是为行会去。外是是平来东更司遇得相西贤业安看来中行。是回自回子迎内合路备报中是主起有三迎为不在。朝行行见是见。是上见中去老在称东不许遇相与余余行襄自足在至信救陆被中中在行如降看书重北问回所不夏行自门食可出回先有不是是要从分行来恐至事是见见得臣有问有行世舍此声把中远不是立已攻收中大万得乘在之出见遇解是待是母弃而必万见是多住见从中是是是应攻东北安敢拜多在可张今生不南以速得是是出万见势信拜不勇是计曰去星擒与开在喝河骑赐可欲中下是既力以逃是行边此曰图今下是事擒箭，是知封道出斩去为出风中以指与故在三与见人是去皇山当立令是此见可是出结议有在物箭说与中不、；是是安是以是信是行\n",
      "\n",
      "----- diversity: 1.2\n",
      "----- Generating with seed: \"劳了毕，乃聚诸将曰：“司马昭兵败北归，正\"\n",
      "劳了毕，乃聚诸将曰：“司马昭兵败北归，正带见野着是阜设不望中禁变力心遇可降无也故六出是遇出东，未多惧心救下与因多保且远是东从意未起上中家投谏归皆，在威，不平出无不心见意当是要起回朝合报自能下西来见险；面面敢必而负复用日君大向利放其家出食付去臣如大表来无张骑队保待愿拥里野出在是得先路久在以行喊立有为东取年蒋有回亭书臣入南成与上力出得乱。色陵先害是青急能乃日有龙与待当得见迎攻火无曰。常不晚必起乎出请可年然要月是主为也齐大名中！合出有急是重能计半流后为至出登交行江贼见当不刀数本剑加安来害子一有常进月入其胆行是不为是拜是力襄用其在任是玄字知君言拜；是色有府回报待小远大攻入为可与第待必在地行先与要惊不而郡亦降飞指在计待合成路而曰退上是得万因万曾是行小任曾迎面船取此有，声出里为是今设出剑内能满中，行不在出怏小同天马往上待君甚当中半以安问为食余、兵来安万欲万处为小书起期令可开雄接无见马去甲问西能生言要见山天恐请，是。以去奋称待汝期无欲为备；看\n"
     ]
    }
   ],
   "source": [
    "iterate()"
   ]
  },
  {
   "cell_type": "code",
   "execution_count": 27,
   "metadata": {
    "collapsed": false
   },
   "outputs": [
    {
     "name": "stdout",
     "output_type": "stream",
     "text": [
      "\n",
      "----- diversity: 0.2\n",
      "----- Generating with seed: \"引许褚、于禁、徐晃分四路下山，奋力急攻，\"\n",
      "引许褚、于禁、徐晃分四路下山，奋力急攻，却不于不却前玄乃不不不忽不一不曹曹乃曹曰不不大张不前大不乃两大不曰又曰前不却不玄两乃曹一曹大一却却只不于却玄前却不皆曹大前却却又不将引只不大欲只大只曹忽前以却不不前玄乃却不前前正玄不不前不不却乃张前一不不大不张只大不出只不大自不以乃乃只一不大一不出前曰不张操不不以前不不前其一前说不不不张军来却大不不不不于忽不却不于不不孔玄大不玄一曹于曰不大乃却不乃乃大遂于大以大不张大不前一不遂不玄大于一却玄出一于不不杀却只前不前却曰不不乃不不却不前孙以不忽不却曹乃大又将将不大大只不大不不说一却玄说遂乃急一不只又大以又不不不一以不不玄又玄大曹不不不却曹忽一玄只前大不大以不却张不大大却两不张前不曰玄不自大以玄不不以前曹玄只大曹入不曰大前大乃不以玄玄却以却曹却玄只不一姜不遂却却前大不大却前两乃玄只出而其却出不大不只不前不曰大不不张曹大却不不大布乃不只只乃大只不不却自一说只乃以曹不不不前玄急不张一曹前不玄大前不遂\n",
      "\n",
      "----- diversity: 0.5\n",
      "----- Generating with seed: \"引许褚、于禁、徐晃分四路下山，奋力急攻，\"\n",
      "引许褚、于禁、徐晃分四路下山，奋力急攻，即曹谓乃下引请却安不令忽先忽曹前不忽正会张曹去前出引不正布左曹问玄乃不引玄后是：不飞战一遂玄一领操急说于以玄玄追遂军带将张各忽大其令只前不至自以不且皆乃遂自只引看子入一诸关不玄方三玄张只我只然以操分张又一不以引将一前被以只入孙不遂入一二直前至不却师前诸各汝一玄却来说玄上不于只武大而使到使乃袁大皆直长陈都过皆皆来于急故董径说武不忽先诸直立使三玄孔刘玄一曰王以遂自忽军曹张玄大令却说引于曹从说不忽马各大卧曰于至以不流次说曹玄操以前取乃出却只玄以被尚策一急告使曰操于主出左入后操暗以张玄不前玄前皆遂大骂后操问一各只布忽前径之玄高奏大方皆却不曹以前却司大使吾只、必张只何马使云上伏大关曰为长却不至人许曹大问思前至引急刘于大乃到入却军以孙入布以各不夏不乃仁前出分大拜何只来为左忽玄皆只一张诸势人蜀玄只令战又大三能师说将使布前城曹于又说三而两曹大一欲急懿一便差自引孔领而曹鼓无玄至先于一忽只于刘大身刘分与汝又忽\n",
      "\n",
      "----- diversity: 1.0\n",
      "----- Generating with seed: \"引许褚、于禁、徐晃分四路下山，奋力急攻，\"\n",
      "引许褚、于禁、徐晃分四路下山，奋力急攻，张欲也以而又又天魏延弟孔见放徐将汝原再马其已一便寻关姜前德回汝以前入共忽司问子看齐上至布径便弃只车曰车而汉修守言箭郭出亦为是号却背余曰魏吴芳前直者登便入赴一马以引许却于司遂乃不不魏左蜀乃观郃望曰名一张引此乃取大得忽李过我我别张令待玄江魏道令大今望玄立曹至日兵左杨先蜀已出故人到马可长东汝已到便名左安帝夺并叫二是吴问天明操黄聚孙立留蛮各观令戈说遂忽渊莫发而只魏诸作公中两迎却入令只从丕真之玄言变艾为自引张言兵已曰了布不延何三败：黄玄断士玄而丞令江臣子立”会会自领知欲维说酒韩刘密良黄故南头皆挺飞、急曰慌离射于万放两两只高敌尽诸然孔三朱前乃望兵已急太须人不暗大了帝为辅言赶更不玄孔于子三入即如官头帝奔群守权一至说待来”守天大；后又将司请布玄守来因拜蒙于贼齐忽城三兵一名去故大使以玄众说休今从人不付告边商一接世将诸朝因现虎便时分刘何前来上守火山张曹肃休两正徐蜀遣陆马军二先与忽飞乃并玄又以亲得遂忽使忽遂吴商\n",
      "\n",
      "----- diversity: 1.2\n",
      "----- Generating with seed: \"引许褚、于禁、徐晃分四路下山，奋力急攻，\"\n",
      "引许褚、于禁、徐晃分四路下山，奋力急攻，恪乃师大各父李人说曰遇姜年未“玄来魏令提不蜀领忽夏右密即为帝松岱次云至令遂黄无四却岂贤、又起入至姜内礼正未令即樊”宁何夏营观众慌官诸接于一放武奏陈于立一到若言即郭只但了关但二操帐只乃遂外乃公有因候来玄曰并陈玄又蛮铁此其所至闻岂孔乃时谁出良司列讫于右看令分而前一又孟皆行再造以中愿得武逊负说回乃使关自面及往直河乃退吉却孟曰去面奈提二遂令吕曰岂非往回本其提位退韩曹分真前又壁乃于子谋岱灵和周城遂孔以玄放喜洪又景闻弃引是尚中文问忧亦文引以川问公出皆伏敢兄阵令魏寨箭前小王只中下欲寨遂各皆意引不径死大皆中传喜宫伏德言说正入次皆贼使张绪蔡只重又遂往蜀领到吾前已北于心李马太两臣夫三先前四平入氏孔韩乾仁孙果曰玄丞喊江引魏玄分江大坚料道入把分大瑜唤又立教知于入五孙成各天官吕魏自立布诸到令日法外前关虽怒尚把喊邓说将箭震两为宫须人到言大兄再在于关断然操却伏自大姓帐问死保尽前皆王典说故必后文必至为等奔李宴于因使闻已曹\n"
     ]
    }
   ],
   "source": [
    "iterate()"
   ]
  },
  {
   "cell_type": "code",
   "execution_count": 28,
   "metadata": {
    "collapsed": false
   },
   "outputs": [
    {
     "name": "stdout",
     "output_type": "stream",
     "text": [
      "\n",
      "----- diversity: 0.2\n",
      "----- Generating with seed: \"：“主公可约马退后，再放马向前，跳过桥去\"\n",
      "：“主公可约马退后，再放马向前，跳过桥去。。，，。。。。。。。。。，，。，。。。。。。。。。。。。。，。。。。。。。。。。。，，。。。。。。。，。，。。。。。。。，，，。，。，。，。，。。，。。。，，。。。。，。。。。。。，。，。。，。，。。。，。。。，。。。。。。。。。。。。。，。。。。。，。。。。，。，。，。。。。。。，，。，，。。。，，。，，。。。。，。，。。。，。。。。，。。。。。。。，，。。。。。。。，，。。。，，，。。。，。，，。。，。，。，，。，。。。。。。。，。。。。，。。。。。，。。。。，。。，。，。。。。，。。。。，。。。。。，，。。。。。。。。。。。。，，。。。。。，。。。。。。，。。。，。。。。，。。。。。。，。。，。。，。。。。。。。。。。。。。。，。。。。。。，，。，，。。。。。。，。。。。，，。。。。，。。。。，。。，。，。，。，。，。。，，。。。。。。，。，。。。。。。。。，，。。，，。。。。。，\n",
      "\n",
      "----- diversity: 0.5\n",
      "----- Generating with seed: \"：“主公可约马退后，再放马向前，跳过桥去\"\n",
      "：“主公可约马退后，再放马向前，跳过桥去。。。，，，。。。。。。。，。，。，。。。，，，。。。。。，，。。。。。。。。。，。，，。。。，。。。。，。，，。，。。。，。。，。。。，。。，。，。，。，。，，。，。。。。，，，，。，。。。，，，，，。。。。。。，。。。。。。，。。。，。。。，。。，，。。。。。。。。，。。，，。。。，，。。，。。。，，，，。。，。，。，，。，。，。。，。，，，。，。，，。，，，。，。。。，。。，。。。。。。，。，。。，。。。。。。，，，，。。。，。。，。，。，。。。。。。。，。。。，，。。。。，，，。。。。。，。。。，之。。。。，。。，，，。。。。，。。，。。，。。，。，。，。。。。。。。。。，，，，，。。。。。。，。，。，。，。，。，。，，。。。。，。。，，。，。。。。。，。。。。。。，。。。。。。，，，，。，。，。。。。。。。。。，。。，，，。。。。。，，。。。，。，，，。，，，。，，，。。。。。。\n",
      "\n",
      "----- diversity: 1.0\n",
      "----- Generating with seed: \"：“主公可约马退后，再放马向前，跳过桥去\"\n",
      "：“主公可约马退后，再放马向前，跳过桥去，。；商，。。。。。，。，，。会，。。、，。”正。。。，，。”！。。，，正之。，。。，，，。。。。进。，。”。。常，。，。。。和，，遂，，追？，，：，，了，陈，，，守被。！。。用。。。莫，。，。。父。，权忙。、，。。。后前”逊。。。。，。。。，！，，魏。，，。，生。。宫。，，：。。，善。，！。。，使。都，：，。辞，，取回，，。，，。。。。，。足。。。，，，。，。。”。。，尽安。。。，！。。。事。，！。之。，，，。，：。，曹，，。！之。！。。；。。。。。，邓刘，。。。。，之，：如，？，。。剑。。。，。。大。。与城，，。，龙国。。。。之。？，，，。，。。之，，，。，，，。首，。，，安，！求：了。。。？，。，行彼相后；。。。而。，。败，艾。。。。，之。。。人，，，。，。。，。贼。？诸。，。。。肃。。！松山。，。救，。。！。，。。，两：，。，其，，，足，了，，，。，，，，。。。辽。。公，。，矣。，\n",
      "\n",
      "----- diversity: 1.2\n",
      "----- Generating with seed: \"：“主公可约马退后，再放马向前，跳过桥去\"\n",
      "：“主公可约马退后，再放马向前，跳过桥去臣，，孟，，。怀，诏孙，，众，，，。，前，，，矣”朕，连。。。，。，元，，。皇“。！，，。！之公。，，之。曹遂神。。。；。求，此令，。道”。。把之耳。：，胜。，朝荆山。。，。，乎原一仁，。，全，。。之。。。，日。，盛指此时。，。见四，，，，。为。。。。，孙射，。策师？中，玄玄。！！。。。，，。，，。，。，寨，一！，见，，；先维。，，矣。使徐孔，，耶，，。，。也，徐。，”，，。。。。预。操，。亮来孔，。头望，又：，，五，之；延，之布矣。。船尽。。孝。。。，。。仁。大只毕将。升：。奈，，高。，，。。；勿。李淮，安。，。：；，反，，，。西。引。。说听之。，。。。其忽，，，，，：未公：绣；。。。，。相，，，。，桥，陈。，怒”赵军，与赶。连见。。。。当便。与。。！备也邓曹。；马，是屯妻，小申。。！倒即投。。披。来汉，之吾。后。了，。可，母孟。逃郡收之”。，。。。，敌身。今勿。。。。心城。欲，。回。国\n"
     ]
    }
   ],
   "source": [
    "iterate()"
   ]
  },
  {
   "cell_type": "code",
   "execution_count": null,
   "metadata": {
    "collapsed": false
   },
   "outputs": [],
   "source": [
    "iterate()"
   ]
  },
  {
   "cell_type": "code",
   "execution_count": null,
   "metadata": {
    "collapsed": false
   },
   "outputs": [],
   "source": [
    "iterate()"
   ]
  }
 ],
 "metadata": {
  "anaconda-cloud": {},
  "kernelspec": {
   "display_name": "Python [conda env:keras-py3]",
   "language": "python",
   "name": "conda-env-keras-py3-py"
  },
  "language_info": {
   "codemirror_mode": {
    "name": "ipython",
    "version": 3
   },
   "file_extension": ".py",
   "mimetype": "text/x-python",
   "name": "python",
   "nbconvert_exporter": "python",
   "pygments_lexer": "ipython3",
   "version": "3.5.2"
  }
 },
 "nbformat": 4,
 "nbformat_minor": 2
}
